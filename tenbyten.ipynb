{
  "metadata": {
    "language_info": {
      "codemirror_mode": {
        "name": "python",
        "version": 3
      },
      "file_extension": ".py",
      "mimetype": "text/x-python",
      "name": "python",
      "nbconvert_exporter": "python",
      "pygments_lexer": "ipython3",
      "version": "3.8"
    },
    "kernelspec": {
      "name": "python",
      "display_name": "Python (Pyodide)",
      "language": "python"
    }
  },
  "nbformat_minor": 4,
  "nbformat": 4,
  "cells": [
    {
      "cell_type": "code",
      "source": "import numpy as np\narr4=np.random.randint(10,50,(10,10))\nprint(arr4)\narr4.min(), arr4.max()",
      "metadata": {
        "trusted": true
      },
      "execution_count": 1,
      "outputs": [
        {
          "name": "stdout",
          "text": "[[20 28 32 30 21 42 32 39 41 14]\n [36 32 31 27 14 42 48 19 47 47]\n [34 35 19 15 18 48 27 25 34 49]\n [14 30 36 34 40 22 15 29 31 40]\n [20 30 10 38 22 25 41 13 41 20]\n [25 43 32 36 23 49 34 43 30 11]\n [46 38 25 31 20 16 36 32 41 30]\n [32 23 33 27 21 35 42 10 36 26]\n [44 34 13 33 34 26 15 27 21 45]\n [21 26 18 43 22 40 31 30 20 33]]\n",
          "output_type": "stream"
        },
        {
          "execution_count": 1,
          "output_type": "execute_result",
          "data": {
            "text/plain": "(10, 49)"
          },
          "metadata": {}
        }
      ]
    },
    {
      "cell_type": "code",
      "source": "",
      "metadata": {},
      "execution_count": null,
      "outputs": []
    }
  ]
}